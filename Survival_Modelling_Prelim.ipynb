{
  "nbformat": 4,
  "nbformat_minor": 0,
  "metadata": {
    "kernelspec": {
      "display_name": "Python 3",
      "language": "python",
      "name": "python3"
    },
    "language_info": {
      "codemirror_mode": {
        "name": "ipython",
        "version": 3
      },
      "file_extension": ".py",
      "mimetype": "text/x-python",
      "name": "python",
      "nbconvert_exporter": "python",
      "pygments_lexer": "ipython3",
      "version": "3.6.9"
    },
    "colab": {
      "name": "Survival_Modelling_Prelim.ipynb",
      "provenance": [],
      "collapsed_sections": [],
      "include_colab_link": true
    }
  },
  "cells": [
    {
      "cell_type": "markdown",
      "metadata": {
        "id": "view-in-github",
        "colab_type": "text"
      },
      "source": [
        "<a href=\"https://colab.research.google.com/github/DRO-Physics/DL-and-ML-for-Medical-Physics/blob/main/Survival_Modelling_Prelim.ipynb\" target=\"_parent\"><img src=\"https://colab.research.google.com/assets/colab-badge.svg\" alt=\"Open In Colab\"/></a>"
      ]
    },
    {
      "cell_type": "markdown",
      "metadata": {
        "id": "aPGKMlTeUhzB"
      },
      "source": [
        "# ML for survival modelling in Breast Cancer Patient"
      ]
    },
    {
      "cell_type": "markdown",
      "metadata": {
        "id": "sZ8D4iyrUhzL"
      },
      "source": [
        "## Conventional Statistical Methods using COX PH"
      ]
    },
    {
      "cell_type": "code",
      "metadata": {
        "id": "CEnfC42UUhzM"
      },
      "source": [
        "import os\n",
        "import numpy as np \n",
        "import pandas as pd\n",
        "from lifelines import CoxPHFitter, KaplanMeierFitter\n",
        "from sklearn.model_selection import train_test_split\n",
        "import matplotlib.pyplot as plt\n"
      ],
      "execution_count": null,
      "outputs": []
    },
    {
      "cell_type": "code",
      "metadata": {
        "id": "YbmpltD2UhzO"
      },
      "source": [
        "## Read in data\n",
        "fname = 'data_cleaned.xlsx'\n",
        "df = pd.read_excel(fname)\n",
        "df['Followup'] = df['Followup']+0.1\n",
        "df.dropna(axis=0, inplace=True)\n",
        "df.drop(['t4', 'n3', 'm1'], axis=1, inplace=True)"
      ],
      "execution_count": null,
      "outputs": []
    },
    {
      "cell_type": "code",
      "metadata": {
        "scrolled": true,
        "id": "IFWnt78MUhzQ",
        "outputId": "1d05f0c2-421a-46b6-b880-28f6c40a4cb8"
      },
      "source": [
        "df_train, df_test = train_test_split(df, test_size=0.2)\n",
        "df_train.head(10)\n",
        "df_train.info()"
      ],
      "execution_count": null,
      "outputs": [
        {
          "output_type": "stream",
          "text": [
            "<class 'pandas.core.frame.DataFrame'>\n",
            "Int64Index: 7083 entries, 8400 to 6677\n",
            "Data columns (total 14 columns):\n",
            " #   Column                      Non-Null Count  Dtype  \n",
            "---  ------                      --------------  -----  \n",
            " 0   t0                          7083 non-null   float64\n",
            " 1   t1                          7083 non-null   float64\n",
            " 2   t2                          7083 non-null   float64\n",
            " 3   t3                          7083 non-null   float64\n",
            " 4   n0                          7083 non-null   float64\n",
            " 5   n1                          7083 non-null   float64\n",
            " 6   n2                          7083 non-null   float64\n",
            " 7   m0                          7083 non-null   float64\n",
            " 8   er_bool                     7083 non-null   int64  \n",
            " 9   pr_bool                     7083 non-null   int64  \n",
            " 10  her2_bool                   7083 non-null   float64\n",
            " 11  Count_as_OS_bool            7083 non-null   int64  \n",
            " 12  menopause_status_calc_bool  7083 non-null   float64\n",
            " 13  Followup                    7083 non-null   float64\n",
            "dtypes: float64(11), int64(3)\n",
            "memory usage: 830.0 KB\n"
          ],
          "name": "stdout"
        }
      ]
    },
    {
      "cell_type": "markdown",
      "metadata": {
        "id": "RZPGbl9cUhzT"
      },
      "source": [
        "### Plot KM Curve"
      ]
    },
    {
      "cell_type": "code",
      "metadata": {
        "id": "Yj5Q-2BkUhzV",
        "outputId": "81a25270-9a97-4474-dd4d-38315f6adb86"
      },
      "source": [
        "kmf = KaplanMeierFitter()\n",
        "kmf.fit(df_train['Followup'], df_train['Count_as_OS_bool'], label=\"Train\")\n",
        "kmf.plot_survival_function(show_censors=True, ci_show=True, at_risk_counts=True)\n",
        "plt.tight_layout()"
      ],
      "execution_count": null,
      "outputs": [
        {
          "output_type": "display_data",
          "data": {
            "image/png": "[encoded data removed]",
            "text/plain": [
              "<Figure size 432x288 with 2 Axes>"
            ]
          },
          "metadata": {
            "tags": [],
            "needs_background": "light"
          }
        }
      ]
    },
    {
      "cell_type": "markdown",
      "metadata": {
        "id": "0YKll3bFUhzX"
      },
      "source": [
        "### Run Cox PH model"
      ]
    },
    {
      "cell_type": "code",
      "metadata": {
        "id": "Qnrktq0UUhzX",
        "outputId": "bcc7efa4-a8ca-4086-f487-dd91dc90acdc"
      },
      "source": [
        "cph = CoxPHFitter()\n",
        "cph.fit(df_train, duration_col='Followup', event_col='Count_as_OS_bool')\n",
        "cph.print_summary()"
      ],
      "execution_count": null,
      "outputs": [
        {
          "output_type": "display_data",
          "data": {
            "text/html": [
              "<div>\n",
              "<style scoped>\n",
              "    .dataframe tbody tr th:only-of-type {\n",
              "        vertical-align: middle;\n",
              "    }\n",
              "\n",
              "    .dataframe tbody tr th {\n",
              "        vertical-align: top;\n",
              "    }\n",
              "\n",
              "    .dataframe thead th {\n",
              "        text-align: right;\n",
              "    }\n",
              "</style>\n",
              "<table border=\"1\" class=\"dataframe\">\n",
              "  <tbody>\n",
              "    <tr>\n",
              "      <th>model</th>\n",
              "      <td>lifelines.CoxPHFitter</td>\n",
              "    </tr>\n",
              "    <tr>\n",
              "      <th>duration col</th>\n",
              "      <td>'Followup'</td>\n",
              "    </tr>\n",
              "    <tr>\n",
              "      <th>event col</th>\n",
              "      <td>'Count_as_OS_bool'</td>\n",
              "    </tr>\n",
              "    <tr>\n",
              "      <th>baseline estimation</th>\n",
              "      <td>breslow</td>\n",
              "    </tr>\n",
              "    <tr>\n",
              "      <th>number of observations</th>\n",
              "      <td>7083</td>\n",
              "    </tr>\n",
              "    <tr>\n",
              "      <th>number of events observed</th>\n",
              "      <td>1206</td>\n",
              "    </tr>\n",
              "    <tr>\n",
              "      <th>partial log-likelihood</th>\n",
              "      <td>-9585.28</td>\n",
              "    </tr>\n",
              "    <tr>\n",
              "      <th>time fit was run</th>\n",
              "      <td>2021-01-15 02:29:09 UTC</td>\n",
              "    </tr>\n",
              "  </tbody>\n",
              "</table>\n",
              "</div><table border=\"1\" class=\"dataframe\">\n",
              "  <thead>\n",
              "    <tr style=\"text-align: right;\">\n",
              "      <th style=\"min-width: 12px;\"></th>\n",
              "      <th style=\"min-width: 12px;\">coef</th>\n",
              "      <th style=\"min-width: 12px;\">exp(coef)</th>\n",
              "      <th style=\"min-width: 12px;\">se(coef)</th>\n",
              "      <th style=\"min-width: 12px;\">coef lower 95%</th>\n",
              "      <th style=\"min-width: 12px;\">coef upper 95%</th>\n",
              "      <th style=\"min-width: 12px;\">exp(coef) lower 95%</th>\n",
              "      <th style=\"min-width: 12px;\">exp(coef) upper 95%</th>\n",
              "      <th style=\"min-width: 12px;\">z</th>\n",
              "      <th style=\"min-width: 12px;\">p</th>\n",
              "      <th style=\"min-width: 12px;\">-log2(p)</th>\n",
              "    </tr>\n",
              "  </thead>\n",
              "  <tbody>\n",
              "    <tr>\n",
              "      <th>t0</th>\n",
              "      <td>-1.58</td>\n",
              "      <td>0.21</td>\n",
              "      <td>0.35</td>\n",
              "      <td>-2.27</td>\n",
              "      <td>-0.89</td>\n",
              "      <td>0.10</td>\n",
              "      <td>0.41</td>\n",
              "      <td>-4.51</td>\n",
              "      <td>&lt;0.005</td>\n",
              "      <td>17.21</td>\n",
              "    </tr>\n",
              "    <tr>\n",
              "      <th>t1</th>\n",
              "      <td>-1.15</td>\n",
              "      <td>0.32</td>\n",
              "      <td>0.11</td>\n",
              "      <td>-1.37</td>\n",
              "      <td>-0.92</td>\n",
              "      <td>0.26</td>\n",
              "      <td>0.40</td>\n",
              "      <td>-10.15</td>\n",
              "      <td>&lt;0.005</td>\n",
              "      <td>78.01</td>\n",
              "    </tr>\n",
              "    <tr>\n",
              "      <th>t2</th>\n",
              "      <td>-0.68</td>\n",
              "      <td>0.51</td>\n",
              "      <td>0.10</td>\n",
              "      <td>-0.88</td>\n",
              "      <td>-0.48</td>\n",
              "      <td>0.42</td>\n",
              "      <td>0.62</td>\n",
              "      <td>-6.75</td>\n",
              "      <td>&lt;0.005</td>\n",
              "      <td>36.03</td>\n",
              "    </tr>\n",
              "    <tr>\n",
              "      <th>t3</th>\n",
              "      <td>-0.26</td>\n",
              "      <td>0.77</td>\n",
              "      <td>0.12</td>\n",
              "      <td>-0.49</td>\n",
              "      <td>-0.02</td>\n",
              "      <td>0.61</td>\n",
              "      <td>0.98</td>\n",
              "      <td>-2.13</td>\n",
              "      <td>0.03</td>\n",
              "      <td>4.90</td>\n",
              "    </tr>\n",
              "    <tr>\n",
              "      <th>n0</th>\n",
              "      <td>-1.20</td>\n",
              "      <td>0.30</td>\n",
              "      <td>0.09</td>\n",
              "      <td>-1.38</td>\n",
              "      <td>-1.02</td>\n",
              "      <td>0.25</td>\n",
              "      <td>0.36</td>\n",
              "      <td>-13.21</td>\n",
              "      <td>&lt;0.005</td>\n",
              "      <td>129.94</td>\n",
              "    </tr>\n",
              "    <tr>\n",
              "      <th>n1</th>\n",
              "      <td>-0.80</td>\n",
              "      <td>0.45</td>\n",
              "      <td>0.09</td>\n",
              "      <td>-0.97</td>\n",
              "      <td>-0.62</td>\n",
              "      <td>0.38</td>\n",
              "      <td>0.54</td>\n",
              "      <td>-8.69</td>\n",
              "      <td>&lt;0.005</td>\n",
              "      <td>57.95</td>\n",
              "    </tr>\n",
              "    <tr>\n",
              "      <th>n2</th>\n",
              "      <td>-0.37</td>\n",
              "      <td>0.69</td>\n",
              "      <td>0.09</td>\n",
              "      <td>-0.55</td>\n",
              "      <td>-0.19</td>\n",
              "      <td>0.58</td>\n",
              "      <td>0.83</td>\n",
              "      <td>-3.95</td>\n",
              "      <td>&lt;0.005</td>\n",
              "      <td>13.66</td>\n",
              "    </tr>\n",
              "    <tr>\n",
              "      <th>m0</th>\n",
              "      <td>-1.48</td>\n",
              "      <td>0.23</td>\n",
              "      <td>0.10</td>\n",
              "      <td>-1.67</td>\n",
              "      <td>-1.28</td>\n",
              "      <td>0.19</td>\n",
              "      <td>0.28</td>\n",
              "      <td>-14.88</td>\n",
              "      <td>&lt;0.005</td>\n",
              "      <td>163.89</td>\n",
              "    </tr>\n",
              "    <tr>\n",
              "      <th>er_bool</th>\n",
              "      <td>-0.32</td>\n",
              "      <td>0.73</td>\n",
              "      <td>0.08</td>\n",
              "      <td>-0.48</td>\n",
              "      <td>-0.16</td>\n",
              "      <td>0.62</td>\n",
              "      <td>0.85</td>\n",
              "      <td>-4.01</td>\n",
              "      <td>&lt;0.005</td>\n",
              "      <td>14.03</td>\n",
              "    </tr>\n",
              "    <tr>\n",
              "      <th>pr_bool</th>\n",
              "      <td>-0.35</td>\n",
              "      <td>0.71</td>\n",
              "      <td>0.07</td>\n",
              "      <td>-0.49</td>\n",
              "      <td>-0.20</td>\n",
              "      <td>0.61</td>\n",
              "      <td>0.82</td>\n",
              "      <td>-4.65</td>\n",
              "      <td>&lt;0.005</td>\n",
              "      <td>18.20</td>\n",
              "    </tr>\n",
              "    <tr>\n",
              "      <th>her2_bool</th>\n",
              "      <td>-0.29</td>\n",
              "      <td>0.75</td>\n",
              "      <td>0.07</td>\n",
              "      <td>-0.43</td>\n",
              "      <td>-0.16</td>\n",
              "      <td>0.65</td>\n",
              "      <td>0.85</td>\n",
              "      <td>-4.25</td>\n",
              "      <td>&lt;0.005</td>\n",
              "      <td>15.49</td>\n",
              "    </tr>\n",
              "    <tr>\n",
              "      <th>menopause_status_calc_bool</th>\n",
              "      <td>0.60</td>\n",
              "      <td>1.83</td>\n",
              "      <td>0.07</td>\n",
              "      <td>0.48</td>\n",
              "      <td>0.73</td>\n",
              "      <td>1.61</td>\n",
              "      <td>2.08</td>\n",
              "      <td>9.25</td>\n",
              "      <td>&lt;0.005</td>\n",
              "      <td>65.28</td>\n",
              "    </tr>\n",
              "  </tbody>\n",
              "</table><br><div>\n",
              "<style scoped>\n",
              "    .dataframe tbody tr th:only-of-type {\n",
              "        vertical-align: middle;\n",
              "    }\n",
              "\n",
              "    .dataframe tbody tr th {\n",
              "        vertical-align: top;\n",
              "    }\n",
              "\n",
              "    .dataframe thead th {\n",
              "        text-align: right;\n",
              "    }\n",
              "</style>\n",
              "<table border=\"1\" class=\"dataframe\">\n",
              "  <tbody>\n",
              "    <tr>\n",
              "      <th>Concordance</th>\n",
              "      <td>0.75</td>\n",
              "    </tr>\n",
              "    <tr>\n",
              "      <th>Partial AIC</th>\n",
              "      <td>19194.56</td>\n",
              "    </tr>\n",
              "    <tr>\n",
              "      <th>log-likelihood ratio test</th>\n",
              "      <td>993.36 on 12 df</td>\n",
              "    </tr>\n",
              "    <tr>\n",
              "      <th>-log2(p) of ll-ratio test</th>\n",
              "      <td>678.67</td>\n",
              "    </tr>\n",
              "  </tbody>\n",
              "</table>\n",
              "</div>"
            ],
            "text/latex": "\\begin{tabular}{lrrrrrrrrrr}\n\\toprule\n{} &  coef &  exp(coef) &  se(coef) &  coef lower 95\\% &  coef upper 95\\% &  exp(coef) lower 95\\% &  exp(coef) upper 95\\% &      z &    p &  -log2(p) \\\\\ncovariate                  &       &            &           &                 &                 &                      &                      &        &      &           \\\\\n\\midrule\nt0                         & -1.58 &       0.21 &      0.35 &           -2.27 &           -0.89 &                 0.10 &                 0.41 &  -4.51 & 0.00 &     17.21 \\\\\nt1                         & -1.15 &       0.32 &      0.11 &           -1.37 &           -0.92 &                 0.26 &                 0.40 & -10.15 & 0.00 &     78.01 \\\\\nt2                         & -0.68 &       0.51 &      0.10 &           -0.88 &           -0.48 &                 0.42 &                 0.62 &  -6.75 & 0.00 &     36.03 \\\\\nt3                         & -0.26 &       0.77 &      0.12 &           -0.49 &           -0.02 &                 0.61 &                 0.98 &  -2.13 & 0.03 &      4.90 \\\\\nn0                         & -1.20 &       0.30 &      0.09 &           -1.38 &           -1.02 &                 0.25 &                 0.36 & -13.21 & 0.00 &    129.94 \\\\\nn1                         & -0.80 &       0.45 &      0.09 &           -0.97 &           -0.62 &                 0.38 &                 0.54 &  -8.69 & 0.00 &     57.95 \\\\\nn2                         & -0.37 &       0.69 &      0.09 &           -0.55 &           -0.19 &                 0.58 &                 0.83 &  -3.95 & 0.00 &     13.66 \\\\\nm0                         & -1.48 &       0.23 &      0.10 &           -1.67 &           -1.28 &                 0.19 &                 0.28 & -14.88 & 0.00 &    163.89 \\\\\ner\\_bool                    & -0.32 &       0.73 &      0.08 &           -0.48 &           -0.16 &                 0.62 &                 0.85 &  -4.01 & 0.00 &     14.03 \\\\\npr\\_bool                    & -0.35 &       0.71 &      0.07 &           -0.49 &           -0.20 &                 0.61 &                 0.82 &  -4.65 & 0.00 &     18.20 \\\\\nher2\\_bool                  & -0.29 &       0.75 &      0.07 &           -0.43 &           -0.16 &                 0.65 &                 0.85 &  -4.25 & 0.00 &     15.49 \\\\\nmenopause\\_status\\_calc\\_bool &  0.60 &       1.83 &      0.07 &            0.48 &            0.73 &                 1.61 &                 2.08 &   9.25 & 0.00 &     65.28 \\\\\n\\bottomrule\n\\end{tabular}\n",
            "text/plain": [
              "<lifelines.CoxPHFitter: fitted with 7083 total observations, 5877 right-censored observations>\n",
              "             duration col = 'Followup'\n",
              "                event col = 'Count_as_OS_bool'\n",
              "      baseline estimation = breslow\n",
              "   number of observations = 7083\n",
              "number of events observed = 1206\n",
              "   partial log-likelihood = -9585.28\n",
              "         time fit was run = 2021-01-15 02:29:09 UTC\n",
              "\n",
              "---\n",
              "                             coef  exp(coef)   se(coef)   coef lower 95%   coef upper 95%  exp(coef) lower 95%  exp(coef) upper 95%\n",
              "covariate                                                                                                                          \n",
              "t0                          -1.58       0.21       0.35            -2.27            -0.89                 0.10                 0.41\n",
              "t1                          -1.15       0.32       0.11            -1.37            -0.92                 0.26                 0.40\n",
              "t2                          -0.68       0.51       0.10            -0.88            -0.48                 0.42                 0.62\n",
              "t3                          -0.26       0.77       0.12            -0.49            -0.02                 0.61                 0.98\n",
              "n0                          -1.20       0.30       0.09            -1.38            -1.02                 0.25                 0.36\n",
              "n1                          -0.80       0.45       0.09            -0.97            -0.62                 0.38                 0.54\n",
              "n2                          -0.37       0.69       0.09            -0.55            -0.19                 0.58                 0.83\n",
              "m0                          -1.48       0.23       0.10            -1.67            -1.28                 0.19                 0.28\n",
              "er_bool                     -0.32       0.73       0.08            -0.48            -0.16                 0.62                 0.85\n",
              "pr_bool                     -0.35       0.71       0.07            -0.49            -0.20                 0.61                 0.82\n",
              "her2_bool                   -0.29       0.75       0.07            -0.43            -0.16                 0.65                 0.85\n",
              "menopause_status_calc_bool   0.60       1.83       0.07             0.48             0.73                 1.61                 2.08\n",
              "\n",
              "                                z      p   -log2(p)\n",
              "covariate                                          \n",
              "t0                          -4.51 <0.005      17.21\n",
              "t1                         -10.15 <0.005      78.01\n",
              "t2                          -6.75 <0.005      36.03\n",
              "t3                          -2.13   0.03       4.90\n",
              "n0                         -13.21 <0.005     129.94\n",
              "n1                          -8.69 <0.005      57.95\n",
              "n2                          -3.95 <0.005      13.66\n",
              "m0                         -14.88 <0.005     163.89\n",
              "er_bool                     -4.01 <0.005      14.03\n",
              "pr_bool                     -4.65 <0.005      18.20\n",
              "her2_bool                   -4.25 <0.005      15.49\n",
              "menopause_status_calc_bool   9.25 <0.005      65.28\n",
              "---\n",
              "Concordance = 0.75\n",
              "Partial AIC = 19194.56\n",
              "log-likelihood ratio test = 993.36 on 12 df\n",
              "-log2(p) of ll-ratio test = 678.67"
            ]
          },
          "metadata": {
            "tags": []
          }
        }
      ]
    },
    {
      "cell_type": "code",
      "metadata": {
        "id": "cO7Fh18HUhzZ",
        "outputId": "bdffcf20-09c2-4300-b618-5606286b95cb"
      },
      "source": [
        "## Plot Hazard Ratio\n",
        "cph.plot()"
      ],
      "execution_count": null,
      "outputs": [
        {
          "output_type": "execute_result",
          "data": {
            "text/plain": [
              "<AxesSubplot:xlabel='log(HR) (95% CI)'>"
            ]
          },
          "metadata": {
            "tags": []
          },
          "execution_count": 78
        },
        {
          "output_type": "display_data",
          "data": {
            "image/png": "[encoded data removed]",
            "text/plain": [
              "<Figure size 432x288 with 1 Axes>"
            ]
          },
          "metadata": {
            "tags": [],
            "needs_background": "light"
          }
        }
      ]
    },
    {
      "cell_type": "code",
      "metadata": {
        "id": "nARqzYr7Uhzb",
        "outputId": "6fb677e7-fb3e-4159-93ac-96925ba47825"
      },
      "source": [
        "## Check Assumption\n",
        "cph.check_assumptions(df_train)"
      ],
      "execution_count": null,
      "outputs": [
        {
          "output_type": "stream",
          "text": [
            "The ``p_value_threshold`` is set at 0.01. Even under the null hypothesis of no violations, some\n",
            "covariates will be below the threshold by chance. This is compounded when there are many covariates.\n",
            "Similarly, when there are lots of observations, even minor deviances from the proportional hazard\n",
            "assumption will be flagged.\n",
            "\n",
            "With that in mind, it's best to use a combination of statistical tests and visual tests to determine\n",
            "the most serious violations. Produce visual plots using ``check_assumptions(..., show_plots=True)``\n",
            "and looking for non-constant lines. See link [A] below for a full example.\n",
            "\n"
          ],
          "name": "stdout"
        },
        {
          "output_type": "display_data",
          "data": {
            "text/html": [
              "<div>\n",
              "<style scoped>\n",
              "    .dataframe tbody tr th:only-of-type {\n",
              "        vertical-align: middle;\n",
              "    }\n",
              "\n",
              "    .dataframe tbody tr th {\n",
              "        vertical-align: top;\n",
              "    }\n",
              "\n",
              "    .dataframe thead th {\n",
              "        text-align: right;\n",
              "    }\n",
              "</style>\n",
              "<table border=\"1\" class=\"dataframe\">\n",
              "  <tbody>\n",
              "    <tr>\n",
              "      <th>null_distribution</th>\n",
              "      <td>chi squared</td>\n",
              "    </tr>\n",
              "    <tr>\n",
              "      <th>degrees_of_freedom</th>\n",
              "      <td>1</td>\n",
              "    </tr>\n",
              "    <tr>\n",
              "      <th>model</th>\n",
              "      <td>&lt;lifelines.CoxPHFitter: fitted with 7083 total...</td>\n",
              "    </tr>\n",
              "    <tr>\n",
              "      <th>test_name</th>\n",
              "      <td>proportional_hazard_test</td>\n",
              "    </tr>\n",
              "  </tbody>\n",
              "</table>\n",
              "</div><table border=\"1\" class=\"dataframe\">\n",
              "  <thead>\n",
              "    <tr style=\"text-align: right;\">\n",
              "      <th></th>\n",
              "      <th></th>\n",
              "      <th>test_statistic</th>\n",
              "      <th>p</th>\n",
              "      <th>-log2(p)</th>\n",
              "    </tr>\n",
              "  </thead>\n",
              "  <tbody>\n",
              "    <tr>\n",
              "      <th rowspan=\"2\" valign=\"top\">er_bool</th>\n",
              "      <th>km</th>\n",
              "      <td>41.18</td>\n",
              "      <td>&lt;0.005</td>\n",
              "      <td>32.75</td>\n",
              "    </tr>\n",
              "    <tr>\n",
              "      <th>rank</th>\n",
              "      <td>40.22</td>\n",
              "      <td>&lt;0.005</td>\n",
              "      <td>32.04</td>\n",
              "    </tr>\n",
              "    <tr>\n",
              "      <th rowspan=\"2\" valign=\"top\">her2_bool</th>\n",
              "      <th>km</th>\n",
              "      <td>4.63</td>\n",
              "      <td>0.03</td>\n",
              "      <td>4.99</td>\n",
              "    </tr>\n",
              "    <tr>\n",
              "      <th>rank</th>\n",
              "      <td>5.29</td>\n",
              "      <td>0.02</td>\n",
              "      <td>5.54</td>\n",
              "    </tr>\n",
              "    <tr>\n",
              "      <th rowspan=\"2\" valign=\"top\">m0</th>\n",
              "      <th>km</th>\n",
              "      <td>1.61</td>\n",
              "      <td>0.20</td>\n",
              "      <td>2.29</td>\n",
              "    </tr>\n",
              "    <tr>\n",
              "      <th>rank</th>\n",
              "      <td>1.01</td>\n",
              "      <td>0.32</td>\n",
              "      <td>1.67</td>\n",
              "    </tr>\n",
              "    <tr>\n",
              "      <th rowspan=\"2\" valign=\"top\">menopause_status_calc_bool</th>\n",
              "      <th>km</th>\n",
              "      <td>0.04</td>\n",
              "      <td>0.84</td>\n",
              "      <td>0.24</td>\n",
              "    </tr>\n",
              "    <tr>\n",
              "      <th>rank</th>\n",
              "      <td>0.16</td>\n",
              "      <td>0.69</td>\n",
              "      <td>0.55</td>\n",
              "    </tr>\n",
              "    <tr>\n",
              "      <th rowspan=\"2\" valign=\"top\">n0</th>\n",
              "      <th>km</th>\n",
              "      <td>0.32</td>\n",
              "      <td>0.57</td>\n",
              "      <td>0.81</td>\n",
              "    </tr>\n",
              "    <tr>\n",
              "      <th>rank</th>\n",
              "      <td>0.48</td>\n",
              "      <td>0.49</td>\n",
              "      <td>1.04</td>\n",
              "    </tr>\n",
              "    <tr>\n",
              "      <th rowspan=\"2\" valign=\"top\">n1</th>\n",
              "      <th>km</th>\n",
              "      <td>0.42</td>\n",
              "      <td>0.52</td>\n",
              "      <td>0.95</td>\n",
              "    </tr>\n",
              "    <tr>\n",
              "      <th>rank</th>\n",
              "      <td>0.97</td>\n",
              "      <td>0.33</td>\n",
              "      <td>1.62</td>\n",
              "    </tr>\n",
              "    <tr>\n",
              "      <th rowspan=\"2\" valign=\"top\">n2</th>\n",
              "      <th>km</th>\n",
              "      <td>1.40</td>\n",
              "      <td>0.24</td>\n",
              "      <td>2.08</td>\n",
              "    </tr>\n",
              "    <tr>\n",
              "      <th>rank</th>\n",
              "      <td>2.51</td>\n",
              "      <td>0.11</td>\n",
              "      <td>3.15</td>\n",
              "    </tr>\n",
              "    <tr>\n",
              "      <th rowspan=\"2\" valign=\"top\">pr_bool</th>\n",
              "      <th>km</th>\n",
              "      <td>7.14</td>\n",
              "      <td>0.01</td>\n",
              "      <td>7.05</td>\n",
              "    </tr>\n",
              "    <tr>\n",
              "      <th>rank</th>\n",
              "      <td>7.40</td>\n",
              "      <td>0.01</td>\n",
              "      <td>7.26</td>\n",
              "    </tr>\n",
              "    <tr>\n",
              "      <th rowspan=\"2\" valign=\"top\">t0</th>\n",
              "      <th>km</th>\n",
              "      <td>0.85</td>\n",
              "      <td>0.36</td>\n",
              "      <td>1.49</td>\n",
              "    </tr>\n",
              "    <tr>\n",
              "      <th>rank</th>\n",
              "      <td>1.60</td>\n",
              "      <td>0.21</td>\n",
              "      <td>2.28</td>\n",
              "    </tr>\n",
              "    <tr>\n",
              "      <th rowspan=\"2\" valign=\"top\">t1</th>\n",
              "      <th>km</th>\n",
              "      <td>2.06</td>\n",
              "      <td>0.15</td>\n",
              "      <td>2.73</td>\n",
              "    </tr>\n",
              "    <tr>\n",
              "      <th>rank</th>\n",
              "      <td>1.74</td>\n",
              "      <td>0.19</td>\n",
              "      <td>2.42</td>\n",
              "    </tr>\n",
              "    <tr>\n",
              "      <th rowspan=\"2\" valign=\"top\">t2</th>\n",
              "      <th>km</th>\n",
              "      <td>0.30</td>\n",
              "      <td>0.58</td>\n",
              "      <td>0.78</td>\n",
              "    </tr>\n",
              "    <tr>\n",
              "      <th>rank</th>\n",
              "      <td>0.17</td>\n",
              "      <td>0.68</td>\n",
              "      <td>0.56</td>\n",
              "    </tr>\n",
              "    <tr>\n",
              "      <th rowspan=\"2\" valign=\"top\">t3</th>\n",
              "      <th>km</th>\n",
              "      <td>1.08</td>\n",
              "      <td>0.30</td>\n",
              "      <td>1.75</td>\n",
              "    </tr>\n",
              "    <tr>\n",
              "      <th>rank</th>\n",
              "      <td>0.84</td>\n",
              "      <td>0.36</td>\n",
              "      <td>1.48</td>\n",
              "    </tr>\n",
              "  </tbody>\n",
              "</table>"
            ],
            "text/latex": "\\begin{tabular}{llrrr}\n\\toprule\n   &      &  test\\_statistic &             p &   -log2(p) \\\\\n\\midrule\ner\\_bool & km &       41.179137 &  1.388972e-10 &  32.745263 \\\\\n   & rank &       40.217388 &  2.272168e-10 &  32.035211 \\\\\nher2\\_bool & km &        4.631324 &  3.139334e-02 &   4.993398 \\\\\n   & rank &        5.285503 &  2.150368e-02 &   5.539273 \\\\\nm0 & km &        1.609702 &  2.045337e-01 &   2.289590 \\\\\n   & rank &        1.009504 &  3.150216e-01 &   1.666477 \\\\\nmenopause\\_status\\_calc\\_bool & km &        0.038622 &  8.441994e-01 &   0.244344 \\\\\n   & rank &        0.164258 &  6.852666e-01 &   0.545263 \\\\\nn0 & km &        0.324693 &  5.688011e-01 &   0.814004 \\\\\n   & rank &        0.483792 &  4.867098e-01 &   1.038866 \\\\\nn1 & km &        0.417312 &  5.182814e-01 &   0.948192 \\\\\n   & rank &        0.968604 &  3.250285e-01 &   1.621362 \\\\\nn2 & km &        1.398614 &  2.369558e-01 &   2.077310 \\\\\n   & rank &        2.513480 &  1.128764e-01 &   3.147184 \\\\\npr\\_bool & km &        7.142803 &  7.526544e-03 &   7.053797 \\\\\n   & rank &        7.395764 &  6.537766e-03 &   7.256987 \\\\\nt0 & km &        0.849857 &  3.565928e-01 &   1.487650 \\\\\n   & rank &        1.600551 &  2.058251e-01 &   2.280509 \\\\\nt1 & km &        2.062152 &  1.509968e-01 &   2.727410 \\\\\n   & rank &        1.740204 &  1.871130e-01 &   2.418018 \\\\\nt2 & km &        0.300571 &  5.835247e-01 &   0.777134 \\\\\n   & rank &        0.174229 &  6.763803e-01 &   0.564093 \\\\\nt3 & km &        1.084032 &  2.977974e-01 &   1.747597 \\\\\n   & rank &        0.842643 &  3.586419e-01 &   1.479384 \\\\\n\\bottomrule\n\\end{tabular}\n",
            "text/plain": [
              "<lifelines.StatisticalResult: proportional_hazard_test>\n",
              " null_distribution = chi squared\n",
              "degrees_of_freedom = 1\n",
              "             model = <lifelines.CoxPHFitter: fitted with 7083 total observations, 5877 right-censored observations>\n",
              "         test_name = proportional_hazard_test\n",
              "\n",
              "---\n",
              "                                 test_statistic      p  -log2(p)\n",
              "er_bool                    km             41.18 <0.005     32.75\n",
              "                           rank           40.22 <0.005     32.04\n",
              "her2_bool                  km              4.63   0.03      4.99\n",
              "                           rank            5.29   0.02      5.54\n",
              "m0                         km              1.61   0.20      2.29\n",
              "                           rank            1.01   0.32      1.67\n",
              "menopause_status_calc_bool km              0.04   0.84      0.24\n",
              "                           rank            0.16   0.69      0.55\n",
              "n0                         km              0.32   0.57      0.81\n",
              "                           rank            0.48   0.49      1.04\n",
              "n1                         km              0.42   0.52      0.95\n",
              "                           rank            0.97   0.33      1.62\n",
              "n2                         km              1.40   0.24      2.08\n",
              "                           rank            2.51   0.11      3.15\n",
              "pr_bool                    km              7.14   0.01      7.05\n",
              "                           rank            7.40   0.01      7.26\n",
              "t0                         km              0.85   0.36      1.49\n",
              "                           rank            1.60   0.21      2.28\n",
              "t1                         km              2.06   0.15      2.73\n",
              "                           rank            1.74   0.19      2.42\n",
              "t2                         km              0.30   0.58      0.78\n",
              "                           rank            0.17   0.68      0.56\n",
              "t3                         km              1.08   0.30      1.75\n",
              "                           rank            0.84   0.36      1.48"
            ]
          },
          "metadata": {
            "tags": []
          }
        },
        {
          "output_type": "stream",
          "text": [
            "\n",
            "\n",
            "1. Variable 'er_bool' failed the non-proportional test: p-value is <5e-05.\n",
            "\n",
            "   Advice: with so few unique values (only 2), you can include `strata=['er_bool', ...]` in the call\n",
            "in `.fit`. See documentation in link [E] below.\n",
            "\n",
            "2. Variable 'pr_bool' failed the non-proportional test: p-value is 0.0065.\n",
            "\n",
            "   Advice: with so few unique values (only 2), you can include `strata=['pr_bool', ...]` in the call\n",
            "in `.fit`. See documentation in link [E] below.\n",
            "\n",
            "---\n",
            "[A]  https://lifelines.readthedocs.io/en/latest/jupyter_notebooks/Proportional%20hazard%20assumption.html\n",
            "[B]  https://lifelines.readthedocs.io/en/latest/jupyter_notebooks/Proportional%20hazard%20assumption.html#Bin-variable-and-stratify-on-it\n",
            "[C]  https://lifelines.readthedocs.io/en/latest/jupyter_notebooks/Proportional%20hazard%20assumption.html#Introduce-time-varying-covariates\n",
            "[D]  https://lifelines.readthedocs.io/en/latest/jupyter_notebooks/Proportional%20hazard%20assumption.html#Modify-the-functional-form\n",
            "[E]  https://lifelines.readthedocs.io/en/latest/jupyter_notebooks/Proportional%20hazard%20assumption.html#Stratification\n",
            "\n"
          ],
          "name": "stdout"
        },
        {
          "output_type": "execute_result",
          "data": {
            "text/plain": [
              "[]"
            ]
          },
          "metadata": {
            "tags": []
          },
          "execution_count": 79
        }
      ]
    },
    {
      "cell_type": "code",
      "metadata": {
        "id": "G_OBZIaPUhze",
        "outputId": "4454b55d-9ac7-4a2c-bcc1-ee7dbca8d9cc"
      },
      "source": [
        "cph.predict_survival_function(df_test)"
      ],
      "execution_count": null,
      "outputs": [
        {
          "output_type": "execute_result",
          "data": {
            "text/html": [
              "<div>\n",
              "<style scoped>\n",
              "    .dataframe tbody tr th:only-of-type {\n",
              "        vertical-align: middle;\n",
              "    }\n",
              "\n",
              "    .dataframe tbody tr th {\n",
              "        vertical-align: top;\n",
              "    }\n",
              "\n",
              "    .dataframe thead th {\n",
              "        text-align: right;\n",
              "    }\n",
              "</style>\n",
              "<table border=\"1\" class=\"dataframe\">\n",
              "  <thead>\n",
              "    <tr style=\"text-align: right;\">\n",
              "      <th></th>\n",
              "      <th>12170</th>\n",
              "      <th>68</th>\n",
              "      <th>6904</th>\n",
              "      <th>5847</th>\n",
              "      <th>10172</th>\n",
              "      <th>5773</th>\n",
              "      <th>1</th>\n",
              "      <th>10182</th>\n",
              "      <th>3537</th>\n",
              "      <th>4752</th>\n",
              "      <th>...</th>\n",
              "      <th>7016</th>\n",
              "      <th>3493</th>\n",
              "      <th>5971</th>\n",
              "      <th>5762</th>\n",
              "      <th>10008</th>\n",
              "      <th>12458</th>\n",
              "      <th>5315</th>\n",
              "      <th>1386</th>\n",
              "      <th>1347</th>\n",
              "      <th>11112</th>\n",
              "    </tr>\n",
              "  </thead>\n",
              "  <tbody>\n",
              "    <tr>\n",
              "      <th>0.0</th>\n",
              "      <td>1.000000</td>\n",
              "      <td>1.000000</td>\n",
              "      <td>1.000000</td>\n",
              "      <td>1.000000</td>\n",
              "      <td>1.000000</td>\n",
              "      <td>1.000000</td>\n",
              "      <td>1.000000</td>\n",
              "      <td>1.000000</td>\n",
              "      <td>1.000000</td>\n",
              "      <td>1.000000</td>\n",
              "      <td>...</td>\n",
              "      <td>1.000000</td>\n",
              "      <td>1.000000</td>\n",
              "      <td>1.000000</td>\n",
              "      <td>1.000000</td>\n",
              "      <td>1.000000</td>\n",
              "      <td>1.000000</td>\n",
              "      <td>1.000000</td>\n",
              "      <td>1.000000</td>\n",
              "      <td>1.000000</td>\n",
              "      <td>1.000000</td>\n",
              "    </tr>\n",
              "    <tr>\n",
              "      <th>1.0</th>\n",
              "      <td>0.999956</td>\n",
              "      <td>0.999853</td>\n",
              "      <td>0.999968</td>\n",
              "      <td>0.999943</td>\n",
              "      <td>0.999899</td>\n",
              "      <td>0.999953</td>\n",
              "      <td>0.999968</td>\n",
              "      <td>0.999582</td>\n",
              "      <td>0.999869</td>\n",
              "      <td>0.999395</td>\n",
              "      <td>...</td>\n",
              "      <td>0.999319</td>\n",
              "      <td>0.999694</td>\n",
              "      <td>0.999925</td>\n",
              "      <td>0.999943</td>\n",
              "      <td>0.999897</td>\n",
              "      <td>0.999943</td>\n",
              "      <td>0.999877</td>\n",
              "      <td>0.999968</td>\n",
              "      <td>0.999912</td>\n",
              "      <td>0.999943</td>\n",
              "    </tr>\n",
              "    <tr>\n",
              "      <th>2.0</th>\n",
              "      <td>0.999737</td>\n",
              "      <td>0.999116</td>\n",
              "      <td>0.999805</td>\n",
              "      <td>0.999654</td>\n",
              "      <td>0.999392</td>\n",
              "      <td>0.999717</td>\n",
              "      <td>0.999805</td>\n",
              "      <td>0.997485</td>\n",
              "      <td>0.999208</td>\n",
              "      <td>0.996361</td>\n",
              "      <td>...</td>\n",
              "      <td>0.995901</td>\n",
              "      <td>0.998160</td>\n",
              "      <td>0.999549</td>\n",
              "      <td>0.999658</td>\n",
              "      <td>0.999381</td>\n",
              "      <td>0.999658</td>\n",
              "      <td>0.999258</td>\n",
              "      <td>0.999805</td>\n",
              "      <td>0.999469</td>\n",
              "      <td>0.999658</td>\n",
              "    </tr>\n",
              "    <tr>\n",
              "      <th>3.0</th>\n",
              "      <td>0.999561</td>\n",
              "      <td>0.998523</td>\n",
              "      <td>0.999674</td>\n",
              "      <td>0.999421</td>\n",
              "      <td>0.998983</td>\n",
              "      <td>0.999527</td>\n",
              "      <td>0.999674</td>\n",
              "      <td>0.995799</td>\n",
              "      <td>0.998677</td>\n",
              "      <td>0.993925</td>\n",
              "      <td>...</td>\n",
              "      <td>0.993159</td>\n",
              "      <td>0.996926</td>\n",
              "      <td>0.999247</td>\n",
              "      <td>0.999428</td>\n",
              "      <td>0.998966</td>\n",
              "      <td>0.999428</td>\n",
              "      <td>0.998760</td>\n",
              "      <td>0.999674</td>\n",
              "      <td>0.999113</td>\n",
              "      <td>0.999428</td>\n",
              "    </tr>\n",
              "    <tr>\n",
              "      <th>4.0</th>\n",
              "      <td>0.999295</td>\n",
              "      <td>0.997630</td>\n",
              "      <td>0.999477</td>\n",
              "      <td>0.999071</td>\n",
              "      <td>0.998369</td>\n",
              "      <td>0.999241</td>\n",
              "      <td>0.999477</td>\n",
              "      <td>0.993265</td>\n",
              "      <td>0.997878</td>\n",
              "      <td>0.990265</td>\n",
              "      <td>...</td>\n",
              "      <td>0.989040</td>\n",
              "      <td>0.995070</td>\n",
              "      <td>0.998791</td>\n",
              "      <td>0.999082</td>\n",
              "      <td>0.998340</td>\n",
              "      <td>0.999082</td>\n",
              "      <td>0.998011</td>\n",
              "      <td>0.999477</td>\n",
              "      <td>0.998577</td>\n",
              "      <td>0.999082</td>\n",
              "    </tr>\n",
              "    <tr>\n",
              "      <th>...</th>\n",
              "      <td>...</td>\n",
              "      <td>...</td>\n",
              "      <td>...</td>\n",
              "      <td>...</td>\n",
              "      <td>...</td>\n",
              "      <td>...</td>\n",
              "      <td>...</td>\n",
              "      <td>...</td>\n",
              "      <td>...</td>\n",
              "      <td>...</td>\n",
              "      <td>...</td>\n",
              "      <td>...</td>\n",
              "      <td>...</td>\n",
              "      <td>...</td>\n",
              "      <td>...</td>\n",
              "      <td>...</td>\n",
              "      <td>...</td>\n",
              "      <td>...</td>\n",
              "      <td>...</td>\n",
              "      <td>...</td>\n",
              "      <td>...</td>\n",
              "    </tr>\n",
              "    <tr>\n",
              "      <th>181.0</th>\n",
              "      <td>0.851088</td>\n",
              "      <td>0.581428</td>\n",
              "      <td>0.887432</td>\n",
              "      <td>0.808686</td>\n",
              "      <td>0.688612</td>\n",
              "      <td>0.840648</td>\n",
              "      <td>0.887432</td>\n",
              "      <td>0.213521</td>\n",
              "      <td>0.615402</td>\n",
              "      <td>0.106970</td>\n",
              "      <td>...</td>\n",
              "      <td>0.080621</td>\n",
              "      <td>0.323278</td>\n",
              "      <td>0.758569</td>\n",
              "      <td>0.810731</td>\n",
              "      <td>0.684167</td>\n",
              "      <td>0.810731</td>\n",
              "      <td>0.634428</td>\n",
              "      <td>0.887432</td>\n",
              "      <td>0.722252</td>\n",
              "      <td>0.810731</td>\n",
              "    </tr>\n",
              "    <tr>\n",
              "      <th>182.0</th>\n",
              "      <td>0.851088</td>\n",
              "      <td>0.581428</td>\n",
              "      <td>0.887432</td>\n",
              "      <td>0.808686</td>\n",
              "      <td>0.688612</td>\n",
              "      <td>0.840648</td>\n",
              "      <td>0.887432</td>\n",
              "      <td>0.213521</td>\n",
              "      <td>0.615402</td>\n",
              "      <td>0.106970</td>\n",
              "      <td>...</td>\n",
              "      <td>0.080621</td>\n",
              "      <td>0.323278</td>\n",
              "      <td>0.758569</td>\n",
              "      <td>0.810731</td>\n",
              "      <td>0.684167</td>\n",
              "      <td>0.810731</td>\n",
              "      <td>0.634428</td>\n",
              "      <td>0.887432</td>\n",
              "      <td>0.722252</td>\n",
              "      <td>0.810731</td>\n",
              "    </tr>\n",
              "    <tr>\n",
              "      <th>183.0</th>\n",
              "      <td>0.851088</td>\n",
              "      <td>0.581428</td>\n",
              "      <td>0.887432</td>\n",
              "      <td>0.808686</td>\n",
              "      <td>0.688612</td>\n",
              "      <td>0.840648</td>\n",
              "      <td>0.887432</td>\n",
              "      <td>0.213521</td>\n",
              "      <td>0.615402</td>\n",
              "      <td>0.106970</td>\n",
              "      <td>...</td>\n",
              "      <td>0.080621</td>\n",
              "      <td>0.323278</td>\n",
              "      <td>0.758569</td>\n",
              "      <td>0.810731</td>\n",
              "      <td>0.684167</td>\n",
              "      <td>0.810731</td>\n",
              "      <td>0.634428</td>\n",
              "      <td>0.887432</td>\n",
              "      <td>0.722252</td>\n",
              "      <td>0.810731</td>\n",
              "    </tr>\n",
              "    <tr>\n",
              "      <th>184.0</th>\n",
              "      <td>0.851088</td>\n",
              "      <td>0.581428</td>\n",
              "      <td>0.887432</td>\n",
              "      <td>0.808686</td>\n",
              "      <td>0.688612</td>\n",
              "      <td>0.840648</td>\n",
              "      <td>0.887432</td>\n",
              "      <td>0.213521</td>\n",
              "      <td>0.615402</td>\n",
              "      <td>0.106970</td>\n",
              "      <td>...</td>\n",
              "      <td>0.080621</td>\n",
              "      <td>0.323278</td>\n",
              "      <td>0.758569</td>\n",
              "      <td>0.810731</td>\n",
              "      <td>0.684167</td>\n",
              "      <td>0.810731</td>\n",
              "      <td>0.634428</td>\n",
              "      <td>0.887432</td>\n",
              "      <td>0.722252</td>\n",
              "      <td>0.810731</td>\n",
              "    </tr>\n",
              "    <tr>\n",
              "      <th>185.0</th>\n",
              "      <td>0.851088</td>\n",
              "      <td>0.581428</td>\n",
              "      <td>0.887432</td>\n",
              "      <td>0.808686</td>\n",
              "      <td>0.688612</td>\n",
              "      <td>0.840648</td>\n",
              "      <td>0.887432</td>\n",
              "      <td>0.213521</td>\n",
              "      <td>0.615402</td>\n",
              "      <td>0.106970</td>\n",
              "      <td>...</td>\n",
              "      <td>0.080621</td>\n",
              "      <td>0.323278</td>\n",
              "      <td>0.758569</td>\n",
              "      <td>0.810731</td>\n",
              "      <td>0.684167</td>\n",
              "      <td>0.810731</td>\n",
              "      <td>0.634428</td>\n",
              "      <td>0.887432</td>\n",
              "      <td>0.722252</td>\n",
              "      <td>0.810731</td>\n",
              "    </tr>\n",
              "  </tbody>\n",
              "</table>\n",
              "<p>186 rows × 1771 columns</p>\n",
              "</div>"
            ],
            "text/plain": [
              "          12170     68        6904      5847      10172     5773      1      \\\n",
              "0.0    1.000000  1.000000  1.000000  1.000000  1.000000  1.000000  1.000000   \n",
              "1.0    0.999956  0.999853  0.999968  0.999943  0.999899  0.999953  0.999968   \n",
              "2.0    0.999737  0.999116  0.999805  0.999654  0.999392  0.999717  0.999805   \n",
              "3.0    0.999561  0.998523  0.999674  0.999421  0.998983  0.999527  0.999674   \n",
              "4.0    0.999295  0.997630  0.999477  0.999071  0.998369  0.999241  0.999477   \n",
              "...         ...       ...       ...       ...       ...       ...       ...   \n",
              "181.0  0.851088  0.581428  0.887432  0.808686  0.688612  0.840648  0.887432   \n",
              "182.0  0.851088  0.581428  0.887432  0.808686  0.688612  0.840648  0.887432   \n",
              "183.0  0.851088  0.581428  0.887432  0.808686  0.688612  0.840648  0.887432   \n",
              "184.0  0.851088  0.581428  0.887432  0.808686  0.688612  0.840648  0.887432   \n",
              "185.0  0.851088  0.581428  0.887432  0.808686  0.688612  0.840648  0.887432   \n",
              "\n",
              "          10182     3537      4752   ...     7016      3493      5971   \\\n",
              "0.0    1.000000  1.000000  1.000000  ...  1.000000  1.000000  1.000000   \n",
              "1.0    0.999582  0.999869  0.999395  ...  0.999319  0.999694  0.999925   \n",
              "2.0    0.997485  0.999208  0.996361  ...  0.995901  0.998160  0.999549   \n",
              "3.0    0.995799  0.998677  0.993925  ...  0.993159  0.996926  0.999247   \n",
              "4.0    0.993265  0.997878  0.990265  ...  0.989040  0.995070  0.998791   \n",
              "...         ...       ...       ...  ...       ...       ...       ...   \n",
              "181.0  0.213521  0.615402  0.106970  ...  0.080621  0.323278  0.758569   \n",
              "182.0  0.213521  0.615402  0.106970  ...  0.080621  0.323278  0.758569   \n",
              "183.0  0.213521  0.615402  0.106970  ...  0.080621  0.323278  0.758569   \n",
              "184.0  0.213521  0.615402  0.106970  ...  0.080621  0.323278  0.758569   \n",
              "185.0  0.213521  0.615402  0.106970  ...  0.080621  0.323278  0.758569   \n",
              "\n",
              "          5762      10008     12458     5315      1386      1347      11112  \n",
              "0.0    1.000000  1.000000  1.000000  1.000000  1.000000  1.000000  1.000000  \n",
              "1.0    0.999943  0.999897  0.999943  0.999877  0.999968  0.999912  0.999943  \n",
              "2.0    0.999658  0.999381  0.999658  0.999258  0.999805  0.999469  0.999658  \n",
              "3.0    0.999428  0.998966  0.999428  0.998760  0.999674  0.999113  0.999428  \n",
              "4.0    0.999082  0.998340  0.999082  0.998011  0.999477  0.998577  0.999082  \n",
              "...         ...       ...       ...       ...       ...       ...       ...  \n",
              "181.0  0.810731  0.684167  0.810731  0.634428  0.887432  0.722252  0.810731  \n",
              "182.0  0.810731  0.684167  0.810731  0.634428  0.887432  0.722252  0.810731  \n",
              "183.0  0.810731  0.684167  0.810731  0.634428  0.887432  0.722252  0.810731  \n",
              "184.0  0.810731  0.684167  0.810731  0.634428  0.887432  0.722252  0.810731  \n",
              "185.0  0.810731  0.684167  0.810731  0.634428  0.887432  0.722252  0.810731  \n",
              "\n",
              "[186 rows x 1771 columns]"
            ]
          },
          "metadata": {
            "tags": []
          },
          "execution_count": 47
        }
      ]
    },
    {
      "cell_type": "code",
      "metadata": {
        "id": "fAN36fs5Uhzh",
        "outputId": "7a296047-a6c5-4447-b1a7-8beda124f0ba"
      },
      "source": [
        "print(cph.predict_median(df_test))"
      ],
      "execution_count": null,
      "outputs": [
        {
          "output_type": "stream",
          "text": [
            "12170    inf\n",
            "68       inf\n",
            "6904     inf\n",
            "5847     inf\n",
            "10172    inf\n",
            "        ... \n",
            "12458    inf\n",
            "5315     inf\n",
            "1386     inf\n",
            "1347     inf\n",
            "11112    inf\n",
            "Name: 0.5, Length: 1771, dtype: float64\n"
          ],
          "name": "stdout"
        }
      ]
    },
    {
      "cell_type": "markdown",
      "metadata": {
        "id": "tRSiVOdFUhzi"
      },
      "source": [
        "### Model Assessment"
      ]
    },
    {
      "cell_type": "code",
      "metadata": {
        "id": "Z6wBlDVuUhzi",
        "outputId": "3e945a81-0eae-44b7-8913-0f8405470138"
      },
      "source": [
        "from lifelines.calibration import survival_probability_calibration\n",
        "survival_probability_calibration(cph, df_test, t0=60) # 5 Years survival OOD Calibration"
      ],
      "execution_count": null,
      "outputs": [
        {
          "output_type": "stream",
          "text": [
            "ICI =  0.009729096113483337\n",
            "E50 =  0.004459681274743055\n"
          ],
          "name": "stdout"
        },
        {
          "output_type": "execute_result",
          "data": {
            "text/plain": [
              "(<AxesSubplot:title={'center':'Smoothed calibration curve of \\npredicted vs observed probabilities of t ≤ 60 mortality'}, xlabel='Predicted probability of \\nt ≤ 60 mortality', ylabel='Observed probability of \\nt ≤ 60 mortality'>,\n",
              " 0.009729096113483337,\n",
              " 0.004459681274743055)"
            ]
          },
          "metadata": {
            "tags": []
          },
          "execution_count": 83
        },
        {
          "output_type": "display_data",
          "data": {
            "image/png": "[encoded data removed]",
            "text/plain": [
              "<Figure size 432x288 with 2 Axes>"
            ]
          },
          "metadata": {
            "tags": [],
            "needs_background": "light"
          }
        }
      ]
    },
    {
      "cell_type": "code",
      "metadata": {
        "id": "m43kPyy-Uhzk",
        "outputId": "717dc7b4-c0f3-4e95-d87a-f1c32ffee65f"
      },
      "source": [
        "survival_probability_calibration(cph, df_test, t0=120) # 10 Years survival OOd Calibration"
      ],
      "execution_count": null,
      "outputs": [
        {
          "output_type": "stream",
          "text": [
            "ICI =  0.025286760637165312\n",
            "E50 =  0.027978555144743122\n"
          ],
          "name": "stdout"
        },
        {
          "output_type": "execute_result",
          "data": {
            "text/plain": [
              "(<AxesSubplot:title={'center':'Smoothed calibration curve of \\npredicted vs observed probabilities of t ≤ 120 mortality'}, xlabel='Predicted probability of \\nt ≤ 120 mortality', ylabel='Observed probability of \\nt ≤ 120 mortality'>,\n",
              " 0.025286760637165312,\n",
              " 0.027978555144743122)"
            ]
          },
          "metadata": {
            "tags": []
          },
          "execution_count": 84
        },
        {
          "output_type": "display_data",
          "data": {
            "image/png": "[encoded data removed]",
            "text/plain": [
              "<Figure size 432x288 with 2 Axes>"
            ]
          },
          "metadata": {
            "tags": [],
            "needs_background": "light"
          }
        }
      ]
    },
    {
      "cell_type": "code",
      "metadata": {
        "id": "JzS0DHJqUhzk",
        "outputId": "376acbda-0ba1-4453-adc2-9c758988e8fa"
      },
      "source": [
        "## Cross validation\n",
        "from lifelines.utils import k_fold_cross_validation\n",
        "cph_cv = CoxPHFitter()\n",
        "scores = k_fold_cross_validation(cph_cv, df, duration_col='Followup', event_col='Count_as_OS_bool', k =10, scoring_method='concordance_index')\n",
        "print(scores)\n",
        "print(np.mean(scores), np.std(scores))"
      ],
      "execution_count": null,
      "outputs": [
        {
          "output_type": "stream",
          "text": [
            "[0.714063679059343, 0.7064340020765649, 0.7670464812236264, 0.7588253857705617, 0.798329417366193, 0.7526644892346039, 0.722467825364945, 0.7212674148809961, 0.739978021978022, 0.7891769369205185]\n",
            "0.7470253653875374 0.030051767646321562\n"
          ],
          "name": "stdout"
        }
      ]
    },
    {
      "cell_type": "markdown",
      "metadata": {
        "id": "IQ0PFFgbUhzm"
      },
      "source": [
        "## Using ML Survival Modelling"
      ]
    },
    {
      "cell_type": "code",
      "metadata": {
        "id": "w-5x8r1MUhzm"
      },
      "source": [
        "from pysurvival.models.semi_parametric import CoxPHModel, NonLinearCoxPHModel\n",
        "from pysurvival.models.multi_task import NeuralMultiTaskModel\n",
        "from pysurvival.models.survival_forest import RandomSurvivalForestModel\n",
        "from pysurvival.models.svm import KernelSVMModel\n",
        "from pysurvival.utils.metrics import concordance_index, integrated_brier_score\n",
        "# from pysurvival.utils.display import integrated_brier_score\n",
        "from sklearn.model_selection import KFold\n",
        "df_features = df.drop(['Count_as_OS_bool', 'Followup'], axis=1)"
      ],
      "execution_count": null,
      "outputs": []
    },
    {
      "cell_type": "code",
      "metadata": {
        "id": "VqjC8DPxUhzn"
      },
      "source": [
        "def CoxModel(X_train, X_test, T_train, T_test, E_train, E_test): \n",
        "    coxph = CoxPHModel()\n",
        "    coxph.fit(X_train, T_train, E_train, lr=0.3, l2_reg=1e-2, init_method='zeros', verbose=False)\n",
        "    #### 5 - Cross Validation / Model Performances\n",
        "    c_index = (concordance_index(coxph, X_test, T_test, E_test))\n",
        "#     print('C-index: {:.2f}'.format(c_index))\n",
        "    ibs = (integrated_brier_score(coxph, X_test, T_test, E_test, t_max=120))\n",
        "#     print('IBS: {:.2f}'.format(ibs))\n",
        "    return (c_index, ibs)\n",
        "\n",
        "def DeepSurvModel(X_train, X_test, T_train, T_test, E_train, E_test): \n",
        "    structure = [ {'activation': 'BentIdentity', 'num_units': 150},  ]\n",
        "    model = NonLinearCoxPHModel(structure=structure)\n",
        "    model.fit(X_train, T_train, E_train, lr=1e-3, l2_reg=1e-2, init_method='xav_uniform', verbose=True)\n",
        "    #### 5 - Cross Validation / Model Performances\n",
        "    c_index = (concordance_index(model, X_test, T_test, E_test))\n",
        "#     print('C-index: {:.2f}'.format(c_index))\n",
        "    ibs = (integrated_brier_score(model, X_test, T_test, E_test, t_max=120))\n",
        "#     print('IBS: {:.2f}'.format(ibs))\n",
        "    return (c_index, ibs)\n",
        "\n",
        "def NeuralMultiTaskSurvivalModel(X_train, X_test, T_train, T_test, E_train, E_test): \n",
        "    structure = [ {'activation': 'ReLU', 'num_units': 150},  ]\n",
        "    model = NeuralMultiTaskModel(structure=structure, bins=150)\n",
        "    model.fit(X_train, T_train, E_train, lr=1e-3, num_epochs = 500, init_method='orthogonal', optimizer = 'rprop')\n",
        "    #### 5 - Cross Validation / Model Performances\n",
        "    c_index = (concordance_index(model, X_test, T_test, E_test))\n",
        "#     print('C-index: {:.2f}'.format(c_index))\n",
        "    ibs = (integrated_brier_score(model, X_test, T_test, E_test, t_max=120))\n",
        "#     print('IBS: {:.2f}'.format(ibs))\n",
        "    return (c_index, ibs)\n",
        "\n",
        "def KernelSVMSurvivalModel(X_train, X_test, T_train, T_test, E_train, E_test): \n",
        "    model = KernelSVMModel(kernel='Gaussian', scale=0.25)\n",
        "    model.fit(X_train, T_train, E_train, init_method='orthogonal', with_bias = True, lr = 0.8,  tol = 1e-3,  l2_reg = 1e-4)\n",
        "    #### 5 - Cross Validation / Model Performances\n",
        "    c_index = (concordance_index(model, X_test, T_test, E_test))\n",
        "#     print('C-index: {:.2f}'.format(c_index))\n",
        "    ibs = (integrated_brier_score(model, X_test, T_test, E_test, t_max=120))\n",
        "#     print('IBS: {:.2f}'.format(ibs))\n",
        "    return (c_index, ibs)\n"
      ],
      "execution_count": null,
      "outputs": []
    },
    {
      "cell_type": "code",
      "metadata": {
        "id": "RZBjNRdkUhzo"
      },
      "source": [
        "def RSFModel(X_train, X_test, T_train, T_test, E_train, E_test): \n",
        "    model = RandomSurvivalForestModel(num_trees=200)\n",
        "    model.fit(X_train, T_train, E_train, max_features=\"sqrt\", max_depth=5, min_node_size=20)\n",
        "    #### 5 - Cross Validation / Model Performances\n",
        "    c_index = (concordance_index(model, X_test, T_test, E_test))\n",
        "#     print('C-index: {:.2f}'.format(c_index))\n",
        "    ibs = (integrated_brier_score(model, X_test, T_test, E_test, t_max=120))\n",
        "#     print('IBS: {:.2f}'.format(ibs))\n",
        "    return (c_index, ibs)\n"
      ],
      "execution_count": null,
      "outputs": []
    },
    {
      "cell_type": "code",
      "metadata": {
        "id": "gT2q8LmvUhz0",
        "outputId": "da4dd652-5738-4fc0-ccba-236f02537acb"
      },
      "source": [
        "## Prepare datasets nd running pysurvival\n",
        "kf = KFold(n_splits=5)\n",
        "CoxModel_cindex = []\n",
        "deepsurv_cindex = []\n",
        "MTLR_cindex = []\n",
        "SVM_cindex = []\n",
        "RSF_cindex = []\n",
        "\n",
        "for train_index, test_index in kf.split(df):\n",
        "    X_train, X_test = df_features.to_numpy()[train_index], df_features.to_numpy()[test_index]\n",
        "    T_train, T_test = df['Followup'].values[train_index], df['Followup'].values[test_index]\n",
        "    E_train, E_test = df['Count_as_OS_bool'].values[train_index], df['Count_as_OS_bool'].values[test_index]\n",
        "    c_index, ibs = NeuralMultiTaskSurvivalModel(X_train, X_test, T_train, T_test, E_train, E_test)\n",
        "    MTLR_cindex.append(c_index)\n",
        "    c_index, ibs = RSFModel(X_train, X_test, T_train, T_test, E_train, E_test)\n",
        "    RSF_cindex.append(c_index)\n",
        "    c_index, ibs = CoxModel(X_train, X_test, T_train, T_test, E_train, E_test)\n",
        "    CoxModel_cindex.append(c_index)\n",
        "    c_index, ibs = DeepSurvModel(X_train, X_test, T_train, T_test, E_train, E_test)\n",
        "    deepsurv_cindex.append(c_index)\n",
        "\n",
        "print('Cox Model C-index: %.3f (%.3f)' %(np.mean(CoxModel_cindex),np.std(CoxModel_cindex)))\n",
        "print('DeepSurv Model C-index: %.3f (%.3f)' %(np.mean(deepsurv_cindex),np.std(deepsurv_cindex)))\n",
        "print('MTLR Model C-index: %.3f (%.3f)' %(np.mean(MTLR_cindex),np.std(MTLR_cindex)))\n",
        "print('SVM Model C-index: %.3f (%.3f)' %(np.mean(SVM_cindex),np.std(SVM_cindex)))\n",
        "print('RSF Model C-index: %.3f (%.3f)' %(np.mean(RSF_cindex),np.std(RSF_cindex)))"
      ],
      "execution_count": null,
      "outputs": [
        {
          "output_type": "stream",
          "text": [
            "% Completion: 100%|**********************************************|Loss: 7212.78\n",
            "% Completion: 100%|**********************************************|Loss: 9650.87\n",
            "% Completion: 100%|**********************************************|Loss: 7283.45\n",
            "% Completion: 100%|**********************************************|Loss: 9715.39\n",
            "% Completion: 100%|**********************************************|Loss: 7203.48\n",
            "% Completion: 100%|**********************************************|Loss: 9671.40\n",
            "% Completion: 100%|**********************************************|Loss: 7067.05\n",
            "% Completion: 100%|**********************************************|Loss: 9373.46\n",
            "% Completion: 100%|**********************************************|Loss: 7303.81\n",
            "% Completion: 100%|**********************************************|Loss: 9826.66\n"
          ],
          "name": "stderr"
        },
        {
          "output_type": "stream",
          "text": [
            "Cox Model C-index: 0.672 (0.035)\n",
            "DeepSurv Model C-index: 0.672 (0.037)\n",
            "MTLR Model C-index: 0.668 (0.044)\n",
            "SVM Model C-index: nan (nan)\n",
            "RSF Model C-index: 0.667 (0.038)\n"
          ],
          "name": "stdout"
        },
        {
          "output_type": "stream",
          "text": [
            "/home/user/.local/lib/python3.6/site-packages/numpy/core/fromnumeric.py:3373: RuntimeWarning: Mean of empty slice.\n",
            "  out=out, **kwargs)\n",
            "/home/user/.local/lib/python3.6/site-packages/numpy/core/_methods.py:234: RuntimeWarning: Degrees of freedom <= 0 for slice\n",
            "  keepdims=keepdims)\n"
          ],
          "name": "stderr"
        }
      ]
    },
    {
      "cell_type": "code",
      "metadata": {
        "id": "MssXDW4UUhz2"
      },
      "source": [
        ""
      ],
      "execution_count": null,
      "outputs": []
    },
    {
      "cell_type": "code",
      "metadata": {
        "id": "3j-XsznpUhz3"
      },
      "source": [
        ""
      ],
      "execution_count": null,
      "outputs": []
    }
  ]
}